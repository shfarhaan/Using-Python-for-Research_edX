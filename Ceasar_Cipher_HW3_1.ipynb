{
  "nbformat": 4,
  "nbformat_minor": 0,
  "metadata": {
    "kernelspec": {
      "display_name": "Python 3",
      "language": "python",
      "name": "python3"
    },
    "language_info": {
      "codemirror_mode": {
        "name": "ipython",
        "version": 3
      },
      "file_extension": ".py",
      "mimetype": "text/x-python",
      "name": "python",
      "nbconvert_exporter": "python",
      "pygments_lexer": "ipython3",
      "version": "3.7.3"
    },
    "colab": {
      "name": "Ceasar_Cipher_HW3-1.ipynb",
      "provenance": [],
      "include_colab_link": true
    }
  },
  "cells": [
    {
      "cell_type": "markdown",
      "metadata": {
        "id": "view-in-github",
        "colab_type": "text"
      },
      "source": [
        "<a href=\"https://colab.research.google.com/github/shfarhaan/Using-Python-for-Research_edX/blob/main/Ceasar_Cipher_HW3_1.ipynb\" target=\"_parent\"><img src=\"https://colab.research.google.com/assets/colab-badge.svg\" alt=\"Open In Colab\"/></a>"
      ]
    },
    {
      "cell_type": "markdown",
      "metadata": {
        "id": "F0vImdd0q6Ud"
      },
      "source": [
        "# Using Python for Research Homework: Week 3, Case Study 1\n",
        "\n",
        "A cipher is a secret code for a language.  In this case study, we will explore a cipher that is reported by contemporary Greek historians to have been used by Julius Caesar to send secret messages to generals during times of war."
      ]
    },
    {
      "cell_type": "markdown",
      "metadata": {
        "id": "IquXKjZtq6Ui"
      },
      "source": [
        "### Exercise 1\n",
        "\n",
        "A cipher is a secret code for a language. In this case study, we will explore a cipher that is reported by contemporary Greek historians to have been used by Julius Caesar to send secret messages to generals during times of war.\n",
        "\n",
        "The Caesar cipher shifts each letter of a message to another letter in the alphabet located a fixed distance from the original letter. If our encryption key were `1`, we would shift `h` to the next letter `i`, `i` to the next letter `j`, and so on. If we reach the end of the alphabet, which for us is the space character, we simply loop back to `a`. To decode the message, we make a similar shift, except we move the same number of steps backwards in the alphabet.\n",
        "\n",
        "Over the next five exercises, we will create our own Caesar cipher, as well as a message decoder for this cipher. In this exercise, we will define the alphabet used in the cipher.\n",
        "\n",
        "#### Instructions\n",
        "- The `string` library has been imported. Create a string called `alphabet` consisting of the space character `' '` followed by (concatenated with) the lowercase letters. Note that we're only using the lowercase letters in this exercise."
      ]
    },
    {
      "cell_type": "code",
      "metadata": {
        "id": "RZDIswoMq6Uk"
      },
      "source": [
        "import string\n",
        "# write your code here!\n",
        "\n",
        "alphabet = ' ' + string.ascii_lowercase"
      ],
      "execution_count": 2,
      "outputs": []
    },
    {
      "cell_type": "code",
      "metadata": {
        "colab": {
          "base_uri": "https://localhost:8080/",
          "height": 35
        },
        "id": "SDQpd0ChvMEC",
        "outputId": "c2b9dac7-7b82-444d-a0dc-4c1ca6cb3d9e"
      },
      "source": [
        "alphabet"
      ],
      "execution_count": 3,
      "outputs": [
        {
          "output_type": "execute_result",
          "data": {
            "application/vnd.google.colaboratory.intrinsic+json": {
              "type": "string"
            },
            "text/plain": [
              "' abcdefghijklmnopqrstuvwxyz'"
            ]
          },
          "metadata": {
            "tags": []
          },
          "execution_count": 3
        }
      ]
    },
    {
      "cell_type": "markdown",
      "metadata": {
        "id": "2IePSBkBq6Ul"
      },
      "source": [
        "### Exercise 2 \n",
        "\n",
        "In this exercise, we will define a dictionary that specifies the index of each character in `alphabet`.\n",
        "\n",
        "#### Instructions \n",
        "- `alphabet` has already defined in the last exercise. Create a dictionary with keys consisting of the characters in alphabet and values consisting of the numbers from 0 to 26.\n",
        "- Store this as `positions`."
      ]
    },
    {
      "cell_type": "code",
      "metadata": {
        "id": "2IcvlzZCq6Um"
      },
      "source": [
        "positions = {i:alphabet[i] for i in range(0, 27)}"
      ],
      "execution_count": 4,
      "outputs": []
    },
    {
      "cell_type": "code",
      "metadata": {
        "colab": {
          "base_uri": "https://localhost:8080/"
        },
        "id": "iaK6JIVVvRUK",
        "outputId": "1f9a471c-1186-4d69-a5c0-ec02ceb88079"
      },
      "source": [
        "print(positions)"
      ],
      "execution_count": 5,
      "outputs": [
        {
          "output_type": "stream",
          "text": [
            "{0: ' ', 1: 'a', 2: 'b', 3: 'c', 4: 'd', 5: 'e', 6: 'f', 7: 'g', 8: 'h', 9: 'i', 10: 'j', 11: 'k', 12: 'l', 13: 'm', 14: 'n', 15: 'o', 16: 'p', 17: 'q', 18: 'r', 19: 's', 20: 't', 21: 'u', 22: 'v', 23: 'w', 24: 'x', 25: 'y', 26: 'z'}\n"
          ],
          "name": "stdout"
        }
      ]
    },
    {
      "cell_type": "code",
      "metadata": {
        "id": "dD4jHIZZ3ucz",
        "colab": {
          "base_uri": "https://localhost:8080/"
        },
        "outputId": "3b3d6a38-4846-4518-9866-1e0e7e4f5b87"
      },
      "source": [
        "positions = {}\n",
        "\n",
        "index = 0\n",
        "for char in alphabet:\n",
        "    positions[char] = index\n",
        "    index += 1\n",
        "    \n",
        "print(positions['n'])\n"
      ],
      "execution_count": 6,
      "outputs": [
        {
          "output_type": "stream",
          "text": [
            "14\n"
          ],
          "name": "stdout"
        }
      ]
    },
    {
      "cell_type": "code",
      "metadata": {
        "id": "O6k2ItJ6wzCV"
      },
      "source": [
        "# alphabet and letters are already defined. Create a dictionary encoding with \n",
        "# keys being the characters in alphabet and values being numbers from 0-26, \n",
        "# shifted by an integer encryption_key=3. For example, the key a should have \n",
        "# value encryption_key, key b should have value encryption_key + 1, and so on. \n",
        "# If any result of this addition is less than 0 or greater than 26, you can \n",
        "# ensure the result remains within 0-26 using result % 27."
      ],
      "execution_count": 7,
      "outputs": []
    },
    {
      "cell_type": "markdown",
      "metadata": {
        "id": "437HHJI-q6Un"
      },
      "source": [
        "### Exercise 3\n",
        "\n",
        "In this exercise, we will encode a message with a Caesar cipher.\n",
        "\n",
        "#### Instructions \n",
        "\n",
        "- `alphabet` and `positions` have already been defined in previous exercises. Use `positions` to create an encoded message based on message where each character in message has been shifted forward by 1 position, as defined by positions.\n",
        "- **Note that you can ensure the result remains within 0-26 using result % 27**\n",
        "- Store this as `encoded_message`."
      ]
    },
    {
      "cell_type": "code",
      "metadata": {
        "id": "aYmtZUtFq6Uo"
      },
      "source": [
        "message = \"hi my name is caesar\"\n",
        "\n",
        "encryption_key = 1\n",
        "\n",
        "encoding = {alphabet[i]:((i + encryption_key) % 27) for i in range(27)}"
      ],
      "execution_count": 8,
      "outputs": []
    },
    {
      "cell_type": "code",
      "metadata": {
        "colab": {
          "base_uri": "https://localhost:8080/"
        },
        "id": "Yrbi7cG4yhXK",
        "outputId": "d6ff0cec-5d2b-4dd8-9597-efff5a80b4c4"
      },
      "source": [
        "print(encoding)"
      ],
      "execution_count": 9,
      "outputs": [
        {
          "output_type": "stream",
          "text": [
            "{' ': 1, 'a': 2, 'b': 3, 'c': 4, 'd': 5, 'e': 6, 'f': 7, 'g': 8, 'h': 9, 'i': 10, 'j': 11, 'k': 12, 'l': 13, 'm': 14, 'n': 15, 'o': 16, 'p': 17, 'q': 18, 'r': 19, 's': 20, 't': 21, 'u': 22, 'v': 23, 'w': 24, 'x': 25, 'y': 26, 'z': 0}\n"
          ],
          "name": "stdout"
        }
      ]
    },
    {
      "cell_type": "code",
      "metadata": {
        "id": "VFjH0J6NH1Cs"
      },
      "source": [
        "def ceasar(message, key):\n",
        "    # return the encoded message as a single string!\n",
        "\n",
        "    alphabet_len = len(alphabet)\n",
        "    encoded_message = {alphabet[i]:((i + key) % alphabet_len) for i in range(alphabet_len)}\n",
        "\n",
        "    return ''.join([alphabet[encoded_message[letter]] for letter in message])\n",
        "\n"
      ],
      "execution_count": 10,
      "outputs": []
    },
    {
      "cell_type": "code",
      "metadata": {
        "colab": {
          "base_uri": "https://localhost:8080/"
        },
        "id": "zVR9LVJtNF7d",
        "outputId": "9379937a-6213-4373-b894-71cc7c99be4d"
      },
      "source": [
        "encoded_message = ceasar(message, 3)\n",
        "\n",
        "print(encoded_message)"
      ],
      "execution_count": 11,
      "outputs": [
        {
          "output_type": "stream",
          "text": [
            "klcpacqdphclvcfdhvdu\n"
          ],
          "name": "stdout"
        }
      ]
    },
    {
      "cell_type": "code",
      "metadata": {
        "colab": {
          "base_uri": "https://localhost:8080/"
        },
        "id": "WTuEC5gYUPLd",
        "outputId": "9f7cde04-bb11-4ab5-a44b-784258ab4ed5"
      },
      "source": [
        "encoding_list = []\n",
        "\n",
        "for char in message:\n",
        "    position = positions[char]\n",
        "    encoded_position = (position + 1) % 27\n",
        "    encoding_list.append(alphabet[encoded_position])\n",
        "encoded_message = \"\".join(encoding_list)\n",
        "\n",
        "print(encoded_message)"
      ],
      "execution_count": 12,
      "outputs": [
        {
          "output_type": "stream",
          "text": [
            "ijanzaobnfajtadbftbs\n"
          ],
          "name": "stdout"
        }
      ]
    },
    {
      "cell_type": "markdown",
      "metadata": {
        "id": "Ze3zCwISq6Uq"
      },
      "source": [
        "### Exercise 4\n",
        "\n",
        "In this exercise, we will define a function that encodes a message with any given encryption key.\n",
        "\n",
        "#### Instructions \n",
        "- `alphabet`, `position` and `message` remain defined from previous exercises. Define a function `encoding` that takes a message as input as well as an int encryption key `key` to encode a message with the Caesar cipher by shifting each letter in message by key positions.\n",
        "- Your function should return a string consisting of these encoded letters.\n",
        "- Use `encoding` to encode message using `key = 3` and save the result as `encoded_message`.\n",
        "Print `encoded_message`."
      ]
    },
    {
      "cell_type": "code",
      "metadata": {
        "id": "XsutbHa0q6Us",
        "colab": {
          "base_uri": "https://localhost:8080/"
        },
        "outputId": "7eb60f5c-5c8e-4193-dd4d-9745236bd918"
      },
      "source": [
        "def encoding(message, key = 0):\n",
        "    encoding_list = []\n",
        "    for char in message:\n",
        "        position = positions[char]\n",
        "        encoded_position = (position + key) % 27\n",
        "        encoding_list.append(alphabet[encoded_position])\n",
        "    encoded_string = \"\".join(encoding_list)\n",
        "    return encoded_string\n",
        "    \n",
        "encoded_message = encoding(message, 3)\n",
        "print(encoded_message)"
      ],
      "execution_count": 13,
      "outputs": [
        {
          "output_type": "stream",
          "text": [
            "klcpacqdphclvcfdhvdu\n"
          ],
          "name": "stdout"
        }
      ]
    },
    {
      "cell_type": "markdown",
      "metadata": {
        "id": "Vjjkwcmgq6Uw"
      },
      "source": [
        "### Exercise 5\n",
        "\n",
        "In this exercise, we will decode an encoded message.\n",
        "\n",
        "#### Instructions \n",
        "- Use `encoding` to decode `encoded_message`.\n",
        "- Store your encoded message as `decoded_message`.\n",
        "- Print `decoded_message`. Does this recover your original message?"
      ]
    },
    {
      "cell_type": "code",
      "metadata": {
        "id": "Aow7XjVKq6Ux",
        "colab": {
          "base_uri": "https://localhost:8080/"
        },
        "outputId": "c1e8d6cf-8cbd-4741-c2b5-9dd5b9817672"
      },
      "source": [
        "decoded_message = ceasar(encoded_message, -3)\n",
        "print(decoded_message)"
      ],
      "execution_count": 14,
      "outputs": [
        {
          "output_type": "stream",
          "text": [
            "hi my name is caesar\n"
          ],
          "name": "stdout"
        }
      ]
    },
    {
      "cell_type": "code",
      "metadata": {
        "id": "TbG-MLY7d-6R"
      },
      "source": [
        ""
      ],
      "execution_count": 14,
      "outputs": []
    }
  ]
}