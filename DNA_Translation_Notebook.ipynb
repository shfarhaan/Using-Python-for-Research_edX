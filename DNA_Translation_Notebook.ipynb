{
  "nbformat": 4,
  "nbformat_minor": 0,
  "metadata": {
    "colab": {
      "name": "DNA_Translation_Notebook",
      "provenance": [],
      "collapsed_sections": [],
      "authorship_tag": "ABX9TyPy7macymh90dluvEUJxFXP",
      "include_colab_link": true
    },
    "kernelspec": {
      "name": "python3",
      "display_name": "Python 3"
    },
    "language_info": {
      "name": "python"
    }
  },
  "cells": [
    {
      "cell_type": "markdown",
      "metadata": {
        "id": "view-in-github",
        "colab_type": "text"
      },
      "source": [
        "<a href=\"https://colab.research.google.com/github/shfarhaan/Using-Python-for-Research_edX/blob/main/DNA_Translation_Notebook.ipynb\" target=\"_parent\"><img src=\"https://colab.research.google.com/assets/colab-badge.svg\" alt=\"Open In Colab\"/></a>"
      ]
    },
    {
      "cell_type": "markdown",
      "metadata": {
        "id": "2g2hlGbXCnQG"
      },
      "source": [
        "## Introduction to DNA Translation\n",
        "\n",
        "DNA is a discrete code physically present in almost every cell of an organism. We can think of DNA as a **one dimensional string** of characters with four characters to choose from. \n",
        "\n",
        "These characters are A, C, G, and T. They stand for the first letters with the four nucleotides used to construct DNA. The full names of these nucleotides are `adenine`, `cytosine`, `guanine`, and `thymine`.\n",
        "\n",
        "Each unique three character sequence of nucleotides, sometimes called a `nucleotide triplet`, corresponds to one **amino acid**. The sequence of amino acids is unique for each type of protein and all proteins are built from the same set of just 20 amino acids for all living things.\n",
        "\n",
        "Protein molecules dominate the behavior of the cell\n",
        "serving as structural supports, chemical catalysts, molecular motors, and so on. The so called central dogma of molecular biology describes the flow of genetic information in a biological system.\n",
        "\n",
        "Instructions in the DNA are first transcribed into RNA and the RNA is then translated into proteins. **We can think of DNA, when read as sequences of three letters, as a dictionary of life.**\n",
        "\n",
        "In this case study, we will \n",
        "\n",
        "1. first download a DNA strand as a text file\n",
        "from a [public web-based repository](https://www.ncbi.nlm.nih.gov) of DNA sequences.\n",
        "2. We will then write code to translate the DNA sequence\n",
        "to a sequence of amino acids where each amino acid is\n",
        "represented by a unique letter.\n",
        "3. Subsequently, We will download the amino acid sequence to check our solution.\n",
        "\n",
        "To make the problem a bit more concrete, let's first\n",
        "think about it conceptually. The input to our program is going to be a DNA sequence that consists of a four letter alphabet. We then read this sequence three letters at a time,\n",
        "translate each triplet to a single letter that stands for a specific amino acid, and then proceed to the next set of three letters. We do this until we have reached the end of the input sequence.\n",
        "\n",
        "### **In this case study, we have four tasks.**\n",
        "1. Manually download DNA and protein sequence data to your computer.\n",
        "2. Import the DNA data into Python.\n",
        "3. Create an algorithm that translates to DNA using the translation table we will provide.\n",
        "4. Check if the DNA translation matches the protein string we have downloaded."
      ]
    },
    {
      "cell_type": "markdown",
      "metadata": {
        "id": "YJRX7yprGsmu"
      },
      "source": [
        "We are going to use the nucleotide [NM_207618.2](https://www.ncbi.nlm.nih.gov/nuccore/NM_207618.2). We will find the dna sequence data from [FASTA](https://www.ncbi.nlm.nih.gov/nuccore/NM_207618.2?report=fasta) report and then save it as text file. Afterwards, we go back to [NM_207618.2](https://www.ncbi.nlm.nih.gov/nuccore/NM_207618.2) and navigate to CDS under feature attribute of the nucleotide and we will the save the translation file as text file."
      ]
    },
    {
      "cell_type": "markdown",
      "metadata": {
        "id": "eea0UdnzJn02"
      },
      "source": [
        "### **Importing DNA Data Into Python and remove special characters**"
      ]
    },
    {
      "cell_type": "code",
      "metadata": {
        "colab": {
          "base_uri": "https://localhost:8080/"
        },
        "id": "W8dUfLaMg1XG",
        "outputId": "c3816567-4baf-40d5-ff0d-d086a38f9c99"
      },
      "source": [
        "\n",
        "dnaInputFile = \"/content/dna.txt\"\n",
        "f_dna = open(dnaInputFile, \"r\")\n",
        "dna_seq = f_dna.read()\n",
        "\n",
        "dna_seq.replace(\"/n\", \"\")\n",
        "dna_seq.replace(\"/r\", \"\")\n",
        "\n",
        "print(dna_seq)\n"
      ],
      "execution_count": null,
      "outputs": [
        {
          "output_type": "stream",
          "text": [
            "GGTCAGAAAAAGCCCTCTCCATGTCTACTCACGATACATCCCTGAAAACCACTGAGGAAGTGGCTTTTCA\n",
            "GATCATCTTGCTTTGCCAGTTTGGGGTTGGGACTTTTGCCAATGTATTTCTCTTTGTCTATAATTTCTCT\n",
            "CCAATCTCGACTGGTTCTAAACAGAGGCCCAGACAAGTGATTTTAAGACACATGGCTGTGGCCAATGCCT\n",
            "TAACTCTCTTCCTCACTATATTTCCAAACAACATGATGACTTTTGCTCCAATTATTCCTCAAACTGACCT\n",
            "CAAATGTAAATTAGAATTCTTCACTCGCCTCGTGGCAAGAAGCACAAACTTGTGTTCAACTTGTGTTCTG\n",
            "AGTATCCATCAGTTTGTCACACTTGTTCCTGTTAATTCAGGTAAAGGAATACTCAGAGCAAGTGTCACAA\n",
            "ACATGGCAAGTTATTCTTGTTACAGTTGTTGGTTCTTCAGTGTCTTAAATAACATCTACATTCCAATTAA\n",
            "GGTCACTGGTCCACAGTTAACAGACAATAACAATAACTCTAAAAGCAAGTTGTTCTGTTCCACTTCTGAT\n",
            "TTCAGTGTAGGCATTGTCTTCTTGAGGTTTGCCCATGATGCCACATTCATGAGCATCATGGTCTGGACCA\n",
            "GTGTCTCCATGGTACTTCTCCTCCATAGACATTGTCAGAGAATGCAGTACATATTCACTCTCAATCAGGA\n",
            "CCCCAGGGGCCAAGCAGAGACCACAGCAACCCATACTATCCTGATGCTGGTAGTCACATTTGTTGGCTTT\n",
            "TATCTTCTAAGTCTTATTTGTATCATCTTTTACACCTATTTTATATATTCTCATCATTCCCTGAGGCATT\n",
            "GCAATGACATTTTGGTTTCGGGTTTCCCTACAATTTCTCCTTTACTGTTGACCTTCAGAGACCCTAAGGG\n",
            "TCCTTGTTCTGTGTTCTTCAACTGTTGAAAGCCAGAGTCACTAAAAATGCCAAACACAGAAGACAGCTTT\n",
            "GCTAATACCATTAAATACTTTATTCCATAAATATGTTTTTAAAAGCTTGTATGAACAAGGTATGGTGCTC\n",
            "ACTGCTATACTTATAAAAGAGTAAGGTTATAATCACTTGTTGATATGAAAAGATTTCTGGTTGGAATCTG\n",
            "ATTGAAACAGTGAGTTATTCACCACCCTCCATTCTCT\n"
          ],
          "name": "stdout"
        }
      ]
    },
    {
      "cell_type": "code",
      "metadata": {
        "colab": {
          "base_uri": "https://localhost:8080/",
          "height": 35
        },
        "id": "NwS5k6k53Lrj",
        "outputId": "5d0c7dda-9ff8-48e9-fbe7-e9f94ae9c496"
      },
      "source": [
        "dna_seq[40:50]"
      ],
      "execution_count": null,
      "outputs": [
        {
          "output_type": "execute_result",
          "data": {
            "application/vnd.google.colaboratory.intrinsic+json": {
              "type": "string"
            },
            "text/plain": [
              "'CCTGAAAACC'"
            ]
          },
          "metadata": {
            "tags": []
          },
          "execution_count": 20
        }
      ]
    },
    {
      "cell_type": "code",
      "metadata": {
        "id": "Jl_OrP_dmQsP",
        "colab": {
          "base_uri": "https://localhost:8080/"
        },
        "outputId": "515233a2-9ef9-4e94-e205-e1b6437907d5"
      },
      "source": [
        "# Adding the Protein File\n",
        "\n",
        "ProteinInputFile = \"/content/protein.txt\"\n",
        "f_protein = open(ProteinInputFile, \"r\")\n",
        "protein_seq = f_protein.read()\n",
        "\n",
        "protein_seq.replace(\"/n\", \"\")\n",
        "protein_seq.replace(\"/r\", \"\")\n",
        "\n",
        "print(protein_seq)"
      ],
      "execution_count": null,
      "outputs": [
        {
          "output_type": "stream",
          "text": [
            "MSTHDTSLKTTEEVAFQIILLCQFGVGTFANVFLFVYNFSPIST\n",
            "GSKQRPRQVILRHMAVANALTLFLTIFPNNMMTFAPIIPQTDLKCKLEFFTRLVARST\n",
            "NLCSTCVLSIHQFVTLVPVNSGKGILRASVTNMASYSCYSCWFFSVLNNIYIPIKVTG\n",
            "PQLTDNNNNSKSKLFCSTSDFSVGIVFLRFAHDATFMSIMVWTSVSMVLLLHRHCQRM\n",
            "QYIFTLNQDPRGQAETTATHTILMLVVTFVGFYLLSLICIIFYTYFIYSHHSLRHCND\n",
            "ILVSGFPTISPLLLTFRDPKGPCSVFFNC\n"
          ],
          "name": "stdout"
        }
      ]
    },
    {
      "cell_type": "markdown",
      "metadata": {
        "id": "zyLIJCRCKC8W"
      },
      "source": [
        "### **Translating the DNA Sequence**\n",
        "\n",
        "The translation process is essentially a table lookup operation. Python provides a very natural object for dealing\n",
        "with these types of situations. This object is a dictionary.\n",
        "In this case, the key objects are strings, each consisting of three letters drawn from the four letter alphabet. The value object is also a string but a string consisting of just one character.\n",
        "\n"
      ]
    },
    {
      "cell_type": "code",
      "metadata": {
        "id": "tMX78oUfp6Ww"
      },
      "source": [
        "table = {\n",
        "    'ATA':'I', 'ATC':'I', 'ATT':'I', 'ATG':'M',\n",
        "    'ACA':'T', 'ACC':'T', 'ACG':'T', 'ACT':'T',\n",
        "    'AAC':'N', 'AAT':'N', 'AAA':'K', 'AAG':'K',\n",
        "    'AGC':'S', 'AGT':'S', 'AGA':'R', 'AGG':'R',\n",
        "    'CTA':'L', 'CTC':'L', 'CTG':'L', 'CTT':'L',\n",
        "    'CCA':'P', 'CCC':'P', 'CCG':'P', 'CCT':'P',\n",
        "    'CAC':'H', 'CAT':'H', 'CAA':'Q', 'CAG':'Q',\n",
        "    'CGA':'R', 'CGC':'R', 'CGG':'R', 'CGT':'R',\n",
        "    'GTA':'V', 'GTC':'V', 'GTG':'V', 'GTT':'V',\n",
        "    'GCA':'A', 'GCC':'A', 'GCG':'A', 'GCT':'A',\n",
        "    'GAC':'D', 'GAT':'D', 'GAA':'E', 'GAG':'E',\n",
        "    'GGA':'G', 'GGC':'G', 'GGG':'G', 'GGT':'G',\n",
        "    'TCA':'S', 'TCC':'S', 'TCG':'S', 'TCT':'S',\n",
        "    'TTC':'F', 'TTT':'F', 'TTA':'L', 'TTG':'L',\n",
        "    'TAC':'Y', 'TAT':'Y', 'TAA':'_', 'TAG':'_',\n",
        "    'TGC':'C', 'TGT':'C', 'TGA':'_', 'TGG':'W',\n",
        "}"
      ],
      "execution_count": null,
      "outputs": []
    },
    {
      "cell_type": "markdown",
      "metadata": {
        "id": "KURW4pAYksqI"
      },
      "source": [
        "### How would we look up the key that corresponds to CAA or CCT or GTA?\n",
        "\n",
        "1. Firstly we should check that the length of the sequence is actually divisible by three.\n",
        "2. Next, look up each three-letter string in our table and store the result somewhere.\n",
        "3. Finally, keep doing this in a loop until we\n",
        "get to the end of the sequence."
      ]
    },
    {
      "cell_type": "code",
      "metadata": {
        "id": "ZaP5GzcIksJY"
      },
      "source": [
        "def translate_dna(dna_seq):\n",
        "    \"\"\"Translate a string containing a nucleotide sequence into a string containing\n",
        "    the corresponding sequence of amino acids. Nucleotides are translated in triplets\n",
        "    using the table dictionary; each amino acid 4 is encoded with a string of length 1.\"\"\"\n",
        "\n",
        "    table = {\n",
        "    'ATA':'I', 'ATC':'I', 'ATT':'I', 'ATG':'M',\n",
        "    'ACA':'T', 'ACC':'T', 'ACG':'T', 'ACT':'T',\n",
        "    'AAC':'N', 'AAT':'N', 'AAA':'K', 'AAG':'K',\n",
        "    'AGC':'S', 'AGT':'S', 'AGA':'R', 'AGG':'R',\n",
        "    'CTA':'L', 'CTC':'L', 'CTG':'L', 'CTT':'L',\n",
        "    'CCA':'P', 'CCC':'P', 'CCG':'P', 'CCT':'P',\n",
        "    'CAC':'H', 'CAT':'H', 'CAA':'Q', 'CAG':'Q',\n",
        "    'CGA':'R', 'CGC':'R', 'CGG':'R', 'CGT':'R',\n",
        "    'GTA':'V', 'GTC':'V', 'GTG':'V', 'GTT':'V',\n",
        "    'GCA':'A', 'GCC':'A', 'GCG':'A', 'GCT':'A',\n",
        "    'GAC':'D', 'GAT':'D', 'GAA':'E', 'GAG':'E',\n",
        "    'GGA':'G', 'GGC':'G', 'GGG':'G', 'GGT':'G',\n",
        "    'TCA':'S', 'TCC':'S', 'TCG':'S', 'TCT':'S',\n",
        "    'TTC':'F', 'TTT':'F', 'TTA':'L', 'TTG':'L',\n",
        "    'TAC':'Y', 'TAT':'Y', 'TAA':'_', 'TAG':'_',\n",
        "    'TGC':'C', 'TGT':'C', 'TGA':'_', 'TGG':'W',}\n",
        "\n",
        "    protein = \"\"\n",
        "\n",
        "    # CHECK THE SEQUENCE IS DIVISIBLE BY 3\n",
        "    if len(dna_seq) % 3 == 0:\n",
        "\n",
        "      # LOOP OVER THE SEQUENCE\n",
        "        for i in range(0, len(dna_seq), 3): \n",
        "      \n",
        "          # EXTRACT A SINGLE CODON\n",
        "            codon = dna_seq[i : i+3]\n",
        "\n",
        "          # LOOK UP THE CODON AND STORE THE RESULT\n",
        "            protein += table[codon]\n",
        "\n",
        "    return protein\n"
      ],
      "execution_count": null,
      "outputs": []
    },
    {
      "cell_type": "markdown",
      "metadata": {
        "id": "dKgBzPEC5e_u"
      },
      "source": [
        "A docstring is a string literal that occurs\n",
        "as the first statement in a module function,\n",
        "or a class, or a method definition, and it becomes part of that object. \n",
        "\n",
        "The docstring should summarize the behavior of the function and document its arguments, returned values, possible side effects, and anything else that would be important for a user to know about the function."
      ]
    },
    {
      "cell_type": "code",
      "metadata": {
        "colab": {
          "base_uri": "https://localhost:8080/",
          "height": 35
        },
        "id": "RKpaUZGEm8cz",
        "outputId": "c77e3026-050c-4ab2-eefa-9f7b395847d0"
      },
      "source": [
        "translate(\"ATA\")"
      ],
      "execution_count": null,
      "outputs": [
        {
          "output_type": "execute_result",
          "data": {
            "application/vnd.google.colaboratory.intrinsic+json": {
              "type": "string"
            },
            "text/plain": [
              "'I'"
            ]
          },
          "metadata": {
            "tags": []
          },
          "execution_count": 24
        }
      ]
    },
    {
      "cell_type": "code",
      "metadata": {
        "colab": {
          "base_uri": "https://localhost:8080/",
          "height": 35
        },
        "id": "b1KcrMGb2fHa",
        "outputId": "ad84b1f0-61a5-4efa-d2c4-4b70483a275b"
      },
      "source": [
        "translate(\"CTC\")"
      ],
      "execution_count": null,
      "outputs": [
        {
          "output_type": "execute_result",
          "data": {
            "application/vnd.google.colaboratory.intrinsic+json": {
              "type": "string"
            },
            "text/plain": [
              "'L'"
            ]
          },
          "metadata": {
            "tags": []
          },
          "execution_count": 25
        }
      ]
    },
    {
      "cell_type": "code",
      "metadata": {
        "colab": {
          "base_uri": "https://localhost:8080/",
          "height": 35
        },
        "id": "N2GQXeRN2khb",
        "outputId": "574752be-91ce-4321-93ca-def69ce2312d"
      },
      "source": [
        "translate(\"GCC\")"
      ],
      "execution_count": null,
      "outputs": [
        {
          "output_type": "execute_result",
          "data": {
            "application/vnd.google.colaboratory.intrinsic+json": {
              "type": "string"
            },
            "text/plain": [
              "'A'"
            ]
          },
          "metadata": {
            "tags": []
          },
          "execution_count": 26
        }
      ]
    },
    {
      "cell_type": "markdown",
      "metadata": {
        "id": "2Ks-UgjO8XJo"
      },
      "source": [
        "### **Comparing The DNA Translation**"
      ]
    },
    {
      "cell_type": "code",
      "metadata": {
        "id": "egwZfi6f2mcv"
      },
      "source": [
        "def read_seq(InputFile):\n",
        "    \"\"\"Read and returns the input sequence with special characters removed.\"\"\"\n",
        "    with open(InputFile, \"r\") as f:\n",
        "        seq = f.read()\n",
        "    seq = seq.replace(\"\\n\", \"\")\n",
        "    seq = seq.replace(\"\\r\", \"\")\n",
        "    return seq\n"
      ],
      "execution_count": null,
      "outputs": []
    },
    {
      "cell_type": "markdown",
      "metadata": {
        "id": "x0wCYqnwggQV"
      },
      "source": [
        "**What does the with statement do?**\n",
        "\n",
        "It opens a file and uses it for the subsequent block of code only, and then closes the file.\n"
      ]
    },
    {
      "cell_type": "code",
      "metadata": {
        "id": "KiFFrHHe28Y1"
      },
      "source": [
        "dna = read_seq(\"/content/dna.txt\")"
      ],
      "execution_count": null,
      "outputs": []
    },
    {
      "cell_type": "code",
      "metadata": {
        "id": "qsJbwth4Ppiy"
      },
      "source": [
        "prt = read_seq(\"/content/protein.txt\")"
      ],
      "execution_count": null,
      "outputs": []
    },
    {
      "cell_type": "code",
      "metadata": {
        "id": "4olKsg1ZPsen"
      },
      "source": [
        "def translate(seq):\n",
        "    \"\"\"Translate a string containing a nucleotide sequence into a string containing\n",
        "    the corresponding sequence of amino acids. Nucleotides are translated in triplets\n",
        "    using the table dictionary; each amino acid 4 is encoded with a string of length 1.\"\"\"\n",
        "\n",
        "    table = {\n",
        "    'ATA':'I', 'ATC':'I', 'ATT':'I', 'ATG':'M',\n",
        "    'ACA':'T', 'ACC':'T', 'ACG':'T', 'ACT':'T',\n",
        "    'AAC':'N', 'AAT':'N', 'AAA':'K', 'AAG':'K',\n",
        "    'AGC':'S', 'AGT':'S', 'AGA':'R', 'AGG':'R',\n",
        "    'CTA':'L', 'CTC':'L', 'CTG':'L', 'CTT':'L',\n",
        "    'CCA':'P', 'CCC':'P', 'CCG':'P', 'CCT':'P',\n",
        "    'CAC':'H', 'CAT':'H', 'CAA':'Q', 'CAG':'Q',\n",
        "    'CGA':'R', 'CGC':'R', 'CGG':'R', 'CGT':'R',\n",
        "    'GTA':'V', 'GTC':'V', 'GTG':'V', 'GTT':'V',\n",
        "    'GCA':'A', 'GCC':'A', 'GCG':'A', 'GCT':'A',\n",
        "    'GAC':'D', 'GAT':'D', 'GAA':'E', 'GAG':'E',\n",
        "    'GGA':'G', 'GGC':'G', 'GGG':'G', 'GGT':'G',\n",
        "    'TCA':'S', 'TCC':'S', 'TCG':'S', 'TCT':'S',\n",
        "    'TTC':'F', 'TTT':'F', 'TTA':'L', 'TTG':'L',\n",
        "    'TAC':'Y', 'TAT':'Y', 'TAA':'_', 'TAG':'_',\n",
        "    'TGC':'C', 'TGT':'C', 'TGA':'_', 'TGG':'W',}\n",
        "\n",
        "    protein = \"\"\n",
        "\n",
        "    # CHECK THE SEQUENCE IS DIVISIBLE BY 3\n",
        "    if len(seq) % 3 == 0:\n",
        "\n",
        "      # LOOP OVER THE SEQUENCE\n",
        "        for i in range(0, len(seq), 3): \n",
        "      \n",
        "          # EXTRACT A SINGLE CODON\n",
        "            codon = seq[i : i+3]\n",
        "\n",
        "          # LOOK UP THE CODON AND STORE THE RESULT\n",
        "            protein += table[codon]\n",
        "\n",
        "    return protein\n"
      ],
      "execution_count": null,
      "outputs": []
    },
    {
      "cell_type": "code",
      "metadata": {
        "colab": {
          "base_uri": "https://localhost:8080/",
          "height": 35
        },
        "id": "eY_hQ-SlPyIv",
        "outputId": "7666ddac-d271-45ea-c385-20e4be84e8f4"
      },
      "source": [
        "translate(dna)"
      ],
      "execution_count": null,
      "outputs": [
        {
          "output_type": "execute_result",
          "data": {
            "application/vnd.google.colaboratory.intrinsic+json": {
              "type": "string"
            },
            "text/plain": [
              "''"
            ]
          },
          "metadata": {
            "tags": []
          },
          "execution_count": 36
        }
      ]
    },
    {
      "cell_type": "code",
      "metadata": {
        "colab": {
          "base_uri": "https://localhost:8080/"
        },
        "id": "IuYC_Ge3Q1JH",
        "outputId": "b00de4fe-fb88-4f83-8b48-662d7c90c153"
      },
      "source": [
        "len(dna) % 3"
      ],
      "execution_count": null,
      "outputs": [
        {
          "output_type": "execute_result",
          "data": {
            "text/plain": [
              "2"
            ]
          },
          "metadata": {
            "tags": []
          },
          "execution_count": 37
        }
      ]
    },
    {
      "cell_type": "markdown",
      "metadata": {
        "id": "2GHD0QzVY7Nb"
      },
      "source": [
        "Here instead of getting 0 as a remainder we get 2 because if we see in the website where CDS is mentioned, we will see two numbers next to it, 21 and 938. \n",
        "\n",
        "#### **These are the locations of the gene where the coding sequence starts and ends.**\n",
        "\n",
        "So instead of taking the entire DNA sequence,\n",
        "we would really like to be doing the translation starting at position 21 and ending at 938.\n",
        "\n",
        "However, we need to be careful with the indices. As the sequence is numbered from 1 to 1157. \n",
        "\n",
        "In Python, indexing starts at 0, so genome positions 21 and 938 correspond to Python string positions 20 and 937. So the starting point of the string slice will be 20, but the stopping location of the string is 938. This is because when we specify the stopping  location as 938, the last character to be included is at position 937.\n",
        "\n",
        "\n"
      ]
    },
    {
      "cell_type": "code",
      "metadata": {
        "colab": {
          "base_uri": "https://localhost:8080/",
          "height": 69
        },
        "id": "MJq8zowZYJzb",
        "outputId": "b0ba783f-ef22-44dc-e102-2279f7608b0b"
      },
      "source": [
        "translate(dna[20:938])"
      ],
      "execution_count": null,
      "outputs": [
        {
          "output_type": "execute_result",
          "data": {
            "application/vnd.google.colaboratory.intrinsic+json": {
              "type": "string"
            },
            "text/plain": [
              "'MSTHDTSLKTTEEVAFQIILLCQFGVGTFANVFLFVYNFSPISTGSKQRPRQVILRHMAVANALTLFLTIFPNNMMTFAPIIPQTDLKCKLEFFTRLVARSTNLCSTCVLSIHQFVTLVPVNSGKGILRASVTNMASYSCYSCWFFSVLNNIYIPIKVTGPQLTDNNNNSKSKLFCSTSDFSVGIVFLRFAHDATFMSIMVWTSVSMVLLLHRHCQRMQYIFTLNQDPRGQAETTATHTILMLVVTFVGFYLLSLICIIFYTYFIYSHHSLRHCNDILVSGFPTISPLLLTFRDPKGPCSVFFNC_'"
            ]
          },
          "metadata": {
            "tags": []
          },
          "execution_count": 38
        }
      ]
    },
    {
      "cell_type": "code",
      "metadata": {
        "colab": {
          "base_uri": "https://localhost:8080/",
          "height": 69
        },
        "id": "VhH4gUtPdrxw",
        "outputId": "bc1a0502-2d54-4154-c351-70ba21897d53"
      },
      "source": [
        "prt"
      ],
      "execution_count": null,
      "outputs": [
        {
          "output_type": "execute_result",
          "data": {
            "application/vnd.google.colaboratory.intrinsic+json": {
              "type": "string"
            },
            "text/plain": [
              "'MSTHDTSLKTTEEVAFQIILLCQFGVGTFANVFLFVYNFSPISTGSKQRPRQVILRHMAVANALTLFLTIFPNNMMTFAPIIPQTDLKCKLEFFTRLVARSTNLCSTCVLSIHQFVTLVPVNSGKGILRASVTNMASYSCYSCWFFSVLNNIYIPIKVTGPQLTDNNNNSKSKLFCSTSDFSVGIVFLRFAHDATFMSIMVWTSVSMVLLLHRHCQRMQYIFTLNQDPRGQAETTATHTILMLVVTFVGFYLLSLICIIFYTYFIYSHHSLRHCNDILVSGFPTISPLLLTFRDPKGPCSVFFNC'"
            ]
          },
          "metadata": {
            "tags": []
          },
          "execution_count": 39
        }
      ]
    },
    {
      "cell_type": "markdown",
      "metadata": {
        "id": "lPWwh1hBeAAu"
      },
      "source": [
        "The extra underscore (`_`) is a stop codon. Their function is to tell someone reading the sequence that this is where you should stop reading. The stop codon is not included in the downloaded protein, because it's usually not of interest. But when we download the DNA sequence and translate it ourselves, the stop codon is included in the translation.\n",
        "\n",
        "Therefore, we should really skip the last codon from our translation, and we can modify the stopping point of the slice.\n"
      ]
    },
    {
      "cell_type": "code",
      "metadata": {
        "colab": {
          "base_uri": "https://localhost:8080/",
          "height": 69
        },
        "id": "M4C6GpCIdysa",
        "outputId": "80f38fcc-2190-45bf-a4c5-11f54bd19f98"
      },
      "source": [
        "translate(dna[20:935])"
      ],
      "execution_count": null,
      "outputs": [
        {
          "output_type": "execute_result",
          "data": {
            "application/vnd.google.colaboratory.intrinsic+json": {
              "type": "string"
            },
            "text/plain": [
              "'MSTHDTSLKTTEEVAFQIILLCQFGVGTFANVFLFVYNFSPISTGSKQRPRQVILRHMAVANALTLFLTIFPNNMMTFAPIIPQTDLKCKLEFFTRLVARSTNLCSTCVLSIHQFVTLVPVNSGKGILRASVTNMASYSCYSCWFFSVLNNIYIPIKVTGPQLTDNNNNSKSKLFCSTSDFSVGIVFLRFAHDATFMSIMVWTSVSMVLLLHRHCQRMQYIFTLNQDPRGQAETTATHTILMLVVTFVGFYLLSLICIIFYTYFIYSHHSLRHCNDILVSGFPTISPLLLTFRDPKGPCSVFFNC'"
            ]
          },
          "metadata": {
            "tags": []
          },
          "execution_count": 40
        }
      ]
    },
    {
      "cell_type": "code",
      "metadata": {
        "colab": {
          "base_uri": "https://localhost:8080/"
        },
        "id": "yPLMiPrmfELo",
        "outputId": "a0f87637-5dd6-4009-cafa-33d7c3dc0fad"
      },
      "source": [
        "prt == translate(dna[20:935])"
      ],
      "execution_count": null,
      "outputs": [
        {
          "output_type": "execute_result",
          "data": {
            "text/plain": [
              "True"
            ]
          },
          "metadata": {
            "tags": []
          },
          "execution_count": 41
        }
      ]
    },
    {
      "cell_type": "code",
      "metadata": {
        "colab": {
          "base_uri": "https://localhost:8080/",
          "height": 69
        },
        "id": "7kZrlITyfLnY",
        "outputId": "cc0850ac-6074-4465-a14f-baf24e0d4e38"
      },
      "source": [
        "# An alternative approach\n",
        "translate(dna[20:938])[:-1]"
      ],
      "execution_count": null,
      "outputs": [
        {
          "output_type": "execute_result",
          "data": {
            "application/vnd.google.colaboratory.intrinsic+json": {
              "type": "string"
            },
            "text/plain": [
              "'MSTHDTSLKTTEEVAFQIILLCQFGVGTFANVFLFVYNFSPISTGSKQRPRQVILRHMAVANALTLFLTIFPNNMMTFAPIIPQTDLKCKLEFFTRLVARSTNLCSTCVLSIHQFVTLVPVNSGKGILRASVTNMASYSCYSCWFFSVLNNIYIPIKVTGPQLTDNNNNSKSKLFCSTSDFSVGIVFLRFAHDATFMSIMVWTSVSMVLLLHRHCQRMQYIFTLNQDPRGQAETTATHTILMLVVTFVGFYLLSLICIIFYTYFIYSHHSLRHCNDILVSGFPTISPLLLTFRDPKGPCSVFFNC'"
            ]
          },
          "metadata": {
            "tags": []
          },
          "execution_count": 42
        }
      ]
    },
    {
      "cell_type": "code",
      "metadata": {
        "colab": {
          "base_uri": "https://localhost:8080/"
        },
        "id": "DRs-go5Zfl_h",
        "outputId": "59e6bedf-d415-4947-8c24-d2981c758de8"
      },
      "source": [
        "prt == translate(dna[20:938])[:-1]"
      ],
      "execution_count": null,
      "outputs": [
        {
          "output_type": "execute_result",
          "data": {
            "text/plain": [
              "True"
            ]
          },
          "metadata": {
            "tags": []
          },
          "execution_count": 43
        }
      ]
    },
    {
      "cell_type": "code",
      "metadata": {
        "colab": {
          "base_uri": "https://localhost:8080/"
        },
        "id": "zI_DHGOKfxuL",
        "outputId": "24afe645-9d1c-457f-8534-f5b88c42e1f9"
      },
      "source": [
        "translate(dna[20:938])[:-1] == translate(dna[20:935])"
      ],
      "execution_count": null,
      "outputs": [
        {
          "output_type": "execute_result",
          "data": {
            "text/plain": [
              "True"
            ]
          },
          "metadata": {
            "tags": []
          },
          "execution_count": 44
        }
      ]
    },
    {
      "cell_type": "code",
      "metadata": {
        "id": "rWznHBJPgww3"
      },
      "source": [
        ""
      ],
      "execution_count": null,
      "outputs": []
    }
  ]
}